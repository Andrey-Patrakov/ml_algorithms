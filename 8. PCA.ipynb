{
 "cells": [
  {
   "cell_type": "markdown",
   "id": "2e0f1ba4",
   "metadata": {},
   "source": [
    "# PCA"
   ]
  },
  {
   "cell_type": "code",
   "execution_count": 1,
   "id": "03240b4e",
   "metadata": {},
   "outputs": [],
   "source": [
    "import numpy as np\n",
    "import pandas as pd\n",
    "import matplotlib.pyplot as plt\n",
    "\n",
    "from sklearn.model_selection import train_test_split\n",
    "from sklearn.datasets import load_iris\n",
    "\n",
    "from abc import ABC, abstractmethod\n",
    "\n",
    "plt.style.use('fivethirtyeight')\n",
    "plt.rc('font', size=8)"
   ]
  },
  {
   "cell_type": "markdown",
   "id": "c57b18bb",
   "metadata": {},
   "source": [
    "## Добавим свою реализацию PCA"
   ]
  },
  {
   "cell_type": "code",
   "execution_count": 2,
   "id": "23493915",
   "metadata": {},
   "outputs": [],
   "source": [
    "class PCA:\n",
    "\n",
    "    def __init__(self, n_components=None) -> None:\n",
    "        self._n_components = n_components\n",
    "        self._x_components = None\n",
    "        self._cumsum = None\n",
    "\n",
    "    @property\n",
    "    def cumsum(self):\n",
    "        return self._cumsum\n",
    "\n",
    "    @property\n",
    "    def n_components(self):\n",
    "        if self._n_components:\n",
    "            return min(self._n_components, self._x_components)\n",
    "\n",
    "        return self._x_components\n",
    "\n",
    "    @property\n",
    "    def W(self):\n",
    "        return self._V[:, :self.n_components]\n",
    "\n",
    "    @n_components.setter\n",
    "    def n_components(self, value):\n",
    "        self._n_components = value\n",
    "\n",
    "    def fit(self, X, y=None):\n",
    "        X = np.array(X)\n",
    "        self._x_components = X.shape[0]\n",
    "\n",
    "        U, D, Vt = np.linalg.svd(X)\n",
    "        self._V = Vt.T\n",
    "        self._cumsum = np.cumsum(D**2 / sum(D**2) * 100)\n",
    "\n",
    "        return self.cumsum\n",
    "\n",
    "    def transform(self, X, y=None):\n",
    "        return np.array(X) @ self.W\n",
    "\n",
    "    def fit_transform(self, X, y=None):\n",
    "        self.fit(X)\n",
    "        return self.transform(X)"
   ]
  },
  {
   "cell_type": "markdown",
   "id": "1cdef5e0",
   "metadata": {},
   "source": [
    "## Посмотрим как работает PCA"
   ]
  },
  {
   "cell_type": "markdown",
   "id": "7f05b8cf",
   "metadata": {},
   "source": [
    "### Классификационная модель из прошлых ноутбуков"
   ]
  },
  {
   "cell_type": "code",
   "execution_count": 3,
   "id": "3fec97cf",
   "metadata": {},
   "outputs": [],
   "source": [
    "def manhattan(x, y):\n",
    "    x, y = np.array(x), np.array(y)\n",
    "    return np.sum(abs(x - y), axis=1)"
   ]
  },
  {
   "cell_type": "code",
   "execution_count": 4,
   "id": "6efe3246",
   "metadata": {},
   "outputs": [],
   "source": [
    "def euclidean(x, y):\n",
    "    x, y = np.array(x), np.array(y)\n",
    "    return np.sum((x - y)**2, axis=1) ** (1/2)"
   ]
  },
  {
   "cell_type": "code",
   "execution_count": 5,
   "id": "ac4ddb9c",
   "metadata": {},
   "outputs": [],
   "source": [
    "def minkowski(x, y, p=2):\n",
    "    x, y = np.array(x), np.array(y)\n",
    "    return np.sum(abs(x - y) ** p, axis=1) ** (1/p)"
   ]
  },
  {
   "cell_type": "code",
   "execution_count": 6,
   "id": "e21dd847",
   "metadata": {},
   "outputs": [],
   "source": [
    "class KNeighbors(ABC):\n",
    "\n",
    "    def __init__(self,\n",
    "                 n_neighbors=5,\n",
    "                 weights='uniform',\n",
    "                 metric='minkowski',\n",
    "                 metric_params=None,\n",
    "                 p=2) -> None:\n",
    "\n",
    "        self._X = None\n",
    "        self._y = None\n",
    "\n",
    "        self._n_neighbors = n_neighbors\n",
    "        self._weights = weights.lower()\n",
    "        if self._weights not in ['uniform', 'distance']:\n",
    "            raise ValueError(f'Unknown value \"{weights} for weights param!\"')\n",
    "\n",
    "        if isinstance(metric_params, dict):\n",
    "            self._metric_params = metric_params\n",
    "        elif metric_params is None:\n",
    "            self._metric_params = {}\n",
    "        else:\n",
    "            raise TypeError('Unknown param type for metric_params')\n",
    "\n",
    "        self._distance = None\n",
    "        if callable(metric):\n",
    "            self._distance = metric\n",
    "        elif metric.lower() == 'minkowski':\n",
    "            self._distance = minkowski\n",
    "            self._metric_params['p'] = p\n",
    "        elif metric.lower() == 'manhattan':\n",
    "            self._distance = manhattan\n",
    "        elif metric.lower() == 'euclidean':\n",
    "            self._distance = euclidean\n",
    "        else:\n",
    "            raise ValueError(f'Unknown metric {metric} for KNeighbors class!')\n",
    "\n",
    "    @abstractmethod\n",
    "    def _predict(self, y, weights):\n",
    "        return None\n",
    "\n",
    "    def fit(self, X, y):\n",
    "        self._X, self._y = np.array(X), np.array(y)\n",
    "        if self._X.shape[0] != self._y.shape[0]:\n",
    "            error = 'Found input variables with inconsistent numbers of samples: '  # noqa\n",
    "            error += f'[{self._X.shape[0]}, {self._y.shape[0]}]'\n",
    "            raise ValueError(error)\n",
    "\n",
    "    def predict(self, X):\n",
    "        return np.apply_along_axis(self._brute_force, 1, np.array(X))\n",
    "\n",
    "    def _brute_force(self, X):\n",
    "        distances = self._distance(X, self._X, **self._metric_params)\n",
    "        prediction = distances.argsort()[:self._n_neighbors]\n",
    "        weights = self._calc_weights(distances[prediction])\n",
    "        return self._predict(self._y[prediction], weights)\n",
    "\n",
    "    def _calc_weights(self, distance):\n",
    "        if self._weights == 'distance':\n",
    "            return max(distance) - distance + 0.1\n",
    "\n",
    "        return np.ones(len(distance))"
   ]
  },
  {
   "cell_type": "code",
   "execution_count": 7,
   "id": "f4a771ef",
   "metadata": {},
   "outputs": [],
   "source": [
    "class KNeighborsClassifier(KNeighbors):\n",
    "\n",
    "    def _predict(self, y, weights):\n",
    "        results = []\n",
    "        predictions = np.unique(y)\n",
    "        for pred in predictions:\n",
    "            results.append(sum(weights[y == pred]))\n",
    "\n",
    "        return predictions[np.array(results).argmax()]"
   ]
  },
  {
   "cell_type": "code",
   "execution_count": 8,
   "id": "180d3194",
   "metadata": {},
   "outputs": [],
   "source": [
    "class StandardScaler:\n",
    "\n",
    "    def __init__(self) -> None:\n",
    "        self._x_mean = None\n",
    "        self._x_std = None\n",
    "\n",
    "    def fit(self, X, y=None):\n",
    "        X = np.array(X)\n",
    "        self._x_mean = X.mean(axis=0)\n",
    "        self._x_std = X.std(axis=0)\n",
    "\n",
    "    def transform(self, X, y=None):\n",
    "        if self._x_mean is None or self._x_std is None:\n",
    "            raise RuntimeError(\n",
    "                \"StandardScaler is not fited (fit method was never called)!\"\n",
    "            )\n",
    "\n",
    "        X = np.array(X)\n",
    "        return (X - self._x_mean) / self._x_std\n",
    "\n",
    "    def fit_transform(self, X, y=None):\n",
    "        self.fit(X)\n",
    "        return self.transform(X)"
   ]
  },
  {
   "cell_type": "code",
   "execution_count": 9,
   "id": "28ca2b42",
   "metadata": {},
   "outputs": [],
   "source": [
    "def accuracy(y_true, y_pred):\n",
    "    return np.sum(y_true == y_pred) / len(y_true)"
   ]
  },
  {
   "cell_type": "markdown",
   "id": "6cb78e1f",
   "metadata": {},
   "source": [
    "### Загрузка и подготовка данных"
   ]
  },
  {
   "cell_type": "code",
   "execution_count": 10,
   "id": "c207c188",
   "metadata": {},
   "outputs": [],
   "source": [
    "X, y = load_iris(return_X_y=True)\n",
    "X_train, X_test, y_train, y_test = train_test_split(X, y, test_size=0.35, random_state=42)"
   ]
  },
  {
   "cell_type": "code",
   "execution_count": 11,
   "id": "5ee82213",
   "metadata": {},
   "outputs": [],
   "source": [
    "scaler = StandardScaler()\n",
    "X_train = scaler.fit_transform(X_train)\n",
    "X_test = scaler.transform(X_test)"
   ]
  },
  {
   "cell_type": "code",
   "execution_count": 12,
   "id": "4fbf56e0",
   "metadata": {},
   "outputs": [
    {
     "name": "stdout",
     "output_type": "stream",
     "text": [
      "[ 71.24697167  95.18491671  99.48417327 100.        ]\n"
     ]
    }
   ],
   "source": [
    "pca = PCA()\n",
    "print(pca.fit(X_train))"
   ]
  },
  {
   "cell_type": "code",
   "execution_count": 13,
   "id": "938b8417",
   "metadata": {},
   "outputs": [
    {
     "name": "stdout",
     "output_type": "stream",
     "text": [
      "(97, 2)\n"
     ]
    }
   ],
   "source": [
    "pca.n_components = 2\n",
    "pca_X_train = pca.transform(X_train)\n",
    "pca_X_test = pca.transform(X_test)\n",
    "print(pca_X_train.shape)"
   ]
  },
  {
   "cell_type": "markdown",
   "id": "2eed7cdc",
   "metadata": {},
   "source": [
    "### Обучение модели"
   ]
  },
  {
   "cell_type": "code",
   "execution_count": 14,
   "id": "8c40d005",
   "metadata": {},
   "outputs": [],
   "source": [
    "results = {\n",
    "    'n_neighbors': [],\n",
    "    'acc': [],\n",
    "    'pca_acc': [],\n",
    "}\n",
    "\n",
    "for n_neighbors in range(1, 11):\n",
    "    results['n_neighbors'].append(n_neighbors)\n",
    "\n",
    "    knn = KNeighborsClassifier(n_neighbors=n_neighbors)\n",
    "    knn.fit(X_train, y_train)\n",
    "    pred = knn.predict(X_test)\n",
    "    results['acc'].append(accuracy(y_test, pred))\n",
    "\n",
    "    knn = KNeighborsClassifier(n_neighbors=n_neighbors)\n",
    "    knn.fit(pca_X_train, y_train)\n",
    "    pred = knn.predict(pca_X_test)\n",
    "    results['pca_acc'].append(accuracy(y_test, pred))\n",
    "\n",
    "results = pd.DataFrame(results)"
   ]
  },
  {
   "cell_type": "code",
   "execution_count": 15,
   "id": "d9a10ce0",
   "metadata": {},
   "outputs": [
    {
     "data": {
      "image/png": "[encoded data removed]",
      "text/plain": [
       "<Figure size 1000x500 with 1 Axes>"
      ]
     },
     "metadata": {},
     "output_type": "display_data"
    }
   ],
   "source": [
    "plt.figure(figsize=(10,5))\n",
    "\n",
    "plt.plot(results['n_neighbors'], results['acc'], label='Без использования PCA')\n",
    "plt.plot(results['n_neighbors'], results['pca_acc'], label='С использованием PCA')\n",
    "\n",
    "plt.ylabel('Точность')\n",
    "plt.xlabel('Кол-во соседей')\n",
    "plt.grid(True)\n",
    "plt.legend()\n",
    "\n",
    "plt.show()"
   ]
  },
  {
   "cell_type": "markdown",
   "id": "cf80d5d3",
   "metadata": {},
   "source": [
    "PCA не подходит для отбора признаков т.к. в результате его работы получается матрица, признаки которой состоят из линейных комбинаций признаков исходной. Т.е. PCA не говорит какие конкретно признаки наиболее или наименее значимые, но этот алгоритм позволил убрать 2 столбца из набора данных (половину от исходного датасета) потеряв при этом всего 4.8% информации. Применение PCA снизило точность алгоритма, но позволило понизить размерность данных."
   ]
  }
 ],
 "metadata": {
  "kernelspec": {
   "display_name": "Python 3 (ipykernel)",
   "language": "python",
   "name": "python3"
  },
  "language_info": {
   "codemirror_mode": {
    "name": "ipython",
    "version": 3
   },
   "file_extension": ".py",
   "mimetype": "text/x-python",
   "name": "python",
   "nbconvert_exporter": "python",
   "pygments_lexer": "ipython3",
   "version": "3.11.3"
  }
 },
 "nbformat": 4,
 "nbformat_minor": 5
}
