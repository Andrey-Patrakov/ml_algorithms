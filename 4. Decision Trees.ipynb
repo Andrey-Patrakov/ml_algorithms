{
 "cells": [
  {
   "cell_type": "markdown",
   "id": "14815b57",
   "metadata": {},
   "source": [
    "# Decision Trees"
   ]
  },
  {
   "cell_type": "code",
   "execution_count": 1,
   "id": "7b5b7847",
   "metadata": {},
   "outputs": [],
   "source": [
    "import numpy as np\n",
    "import pandas as pd\n",
    "import matplotlib.pyplot as plt\n",
    "\n",
    "from sklearn import datasets\n",
    "\n",
    "from math import inf\n",
    "from collections import OrderedDict\n",
    "from abc import ABC, abstractmethod\n",
    "\n",
    "plt.style.use('fivethirtyeight')\n",
    "plt.rc('font', size=8)"
   ]
  },
  {
   "cell_type": "markdown",
   "id": "3e9ba5f9",
   "metadata": {},
   "source": [
    "## Реализуем свои классы решающих деревьев"
   ]
  },
  {
   "cell_type": "markdown",
   "id": "a1e3ea01",
   "metadata": {},
   "source": [
    "### Базовый класс дерева"
   ]
  },
  {
   "cell_type": "markdown",
   "id": "f5e7180f",
   "metadata": {},
   "source": [
    "#### Узел"
   ]
  },
  {
   "cell_type": "code",
   "execution_count": 2,
   "id": "49ea6fcb",
   "metadata": {},
   "outputs": [],
   "source": [
    "class Node:\n",
    "    def __init__(self, index, t, true_branch, false_branch):\n",
    "        self.index = index\n",
    "        self.t = t\n",
    "        self.true_branch = true_branch\n",
    "        self.false_branch = false_branch\n",
    "\n",
    "    def predict(self, X):\n",
    "        if X[self.index] <= self.t:\n",
    "            return self.true_branch.predict(X)\n",
    "        else:\n",
    "            return self.false_branch.predict(X)"
   ]
  },
  {
   "cell_type": "markdown",
   "id": "a202427b",
   "metadata": {},
   "source": [
    "#### Лист"
   ]
  },
  {
   "cell_type": "code",
   "execution_count": 3,
   "id": "36ae3af1",
   "metadata": {},
   "outputs": [],
   "source": [
    "class Leaf(ABC):\n",
    "    def __init__(self, labels):\n",
    "        self.labels = labels\n",
    "        self._get_prediction(labels)\n",
    "\n",
    "    def predict(self, X=None):\n",
    "        return self.prediction\n",
    "\n",
    "    @abstractmethod\n",
    "    def _get_prediction(self, labels):\n",
    "        self.prediction = None"
   ]
  },
  {
   "cell_type": "markdown",
   "id": "bca498dd",
   "metadata": {},
   "source": [
    "#### Класс для обрезки дерева.\n",
    "\n",
    "Нужен для реализации параметра max_leaf_count"
   ]
  },
  {
   "cell_type": "code",
   "execution_count": 4,
   "id": "69418df9",
   "metadata": {},
   "outputs": [],
   "source": [
    "class TreeCutter:\n",
    "\n",
    "    def cut_leafs(self, tree, n, cut_last_node=False):\n",
    "        self._level_list = OrderedDict()\n",
    "        self._read_node(tree)\n",
    "        n = self._cut_leafs(n)\n",
    "        if n > 0 and cut_last_node:\n",
    "            leaf = self._create_leaf_from_node(tree)\n",
    "            if leaf is not None:\n",
    "                return leaf\n",
    "\n",
    "        return tree\n",
    "\n",
    "    def _read_node(self, node, parent=None, level=0):\n",
    "        if isinstance(node, Node):\n",
    "            self._add_node(node, parent, level)\n",
    "\n",
    "            if isinstance(node.true_branch, Node):\n",
    "                self._read_node(node.true_branch, node, level+1)\n",
    "\n",
    "            if isinstance(node.false_branch, Node):\n",
    "                self._read_node(node.false_branch, node, level+1)\n",
    "\n",
    "    def _add_node(self, node, parent, level):\n",
    "        if level not in self._level_list:\n",
    "            self._level_list[level] = []\n",
    "\n",
    "        self._level_list[level].append((node, parent))\n",
    "\n",
    "    def _cut_leafs(self, n):\n",
    "        while n > 0 and len(self._level_list):\n",
    "            _, level = self._level_list.popitem()\n",
    "\n",
    "            while n > 0 and len(level):\n",
    "                node, parent = level.pop()\n",
    "                if not isinstance(parent, Node):\n",
    "                    continue\n",
    "\n",
    "                leaf = self._create_leaf_from_node(node)\n",
    "                if leaf is not None:\n",
    "                    n -= self._replace_node_by_leaf(parent, node, leaf)\n",
    "\n",
    "        return n\n",
    "\n",
    "    def _create_leaf_from_node(self, node):\n",
    "        cut_node = True\n",
    "        cut_node = cut_node and isinstance(node.true_branch, Leaf)\n",
    "        cut_node = cut_node and isinstance(node.false_branch, Leaf)\n",
    "\n",
    "        if cut_node:\n",
    "            true_labels = node.true_branch.labels\n",
    "            false_labels = node.false_branch.labels\n",
    "            labels = np.hstack((true_labels, false_labels))\n",
    "            return type(node.true_branch)(labels)\n",
    "\n",
    "        return None\n",
    "\n",
    "    def _replace_node_by_leaf(self, parent, node, leaf):\n",
    "        if parent.true_branch is node:\n",
    "            parent.true_branch = leaf\n",
    "            return 1\n",
    "\n",
    "        elif parent.false_branch is node:\n",
    "            parent.false_branch = leaf\n",
    "            return 1\n",
    "\n",
    "        return 0"
   ]
  },
  {
   "cell_type": "markdown",
   "id": "c405304c",
   "metadata": {},
   "source": [
    "#### Само дерево"
   ]
  },
  {
   "cell_type": "code",
   "execution_count": 5,
   "id": "e05d1213",
   "metadata": {},
   "outputs": [],
   "source": [
    "# Вспомогательный класс для красивого вывода схемы дерева\n",
    "class ColorText:\n",
    "    PURPLE = '\\033[1;35;48m'\n",
    "    CYAN = '\\033[1;36;48m'\n",
    "    BOLD = '\\033[1;39;48m'\n",
    "    GREEN = '\\033[1;34;48m'\n",
    "    BLUE = '\\033[1;44;48m'\n",
    "    ORANGE = '\\033[1;32;48m'\n",
    "    YELLOW = '\\033[1;33;48m'\n",
    "    RED = '\\033[1;31;48m'\n",
    "    BLACK = '\\033[1;30;48m'\n",
    "    UNDERLINE = '\\033[1;37;48m'\n",
    "    END = '\\033[1;37;0m'"
   ]
  },
  {
   "cell_type": "code",
   "execution_count": 6,
   "id": "b8ceb8b9",
   "metadata": {},
   "outputs": [],
   "source": [
    "class DecisionTree(ABC):\n",
    "    def __init__(self,\n",
    "                 max_depth=None,\n",
    "                 min_samples_leaf=1,\n",
    "                 max_leaf_count=None,\n",
    "                 min_impurity_decrease=0.0):\n",
    "\n",
    "        self._tree = None\n",
    "        self._leaf_count = 0\n",
    "\n",
    "        self._min_samples_leaf = min_samples_leaf\n",
    "        self._max_leaf_count = max_leaf_count\n",
    "        self._min_impurity_decrease = min_impurity_decrease\n",
    "\n",
    "        if max_depth is None:\n",
    "            self._max_depth = inf\n",
    "        else:\n",
    "            self._max_depth = max(max_depth - 1, 0)\n",
    "\n",
    "    @abstractmethod\n",
    "    def _criterion(self, labels):\n",
    "        pass\n",
    "\n",
    "    @abstractmethod\n",
    "    def _Leaf(self, labels):\n",
    "        pass\n",
    "\n",
    "    @abstractmethod\n",
    "    def _Node(self, index, t, true_branch, false_branch):\n",
    "        pass\n",
    "\n",
    "    def __str__(self):\n",
    "        return self._print_tree(self._tree)\n",
    "\n",
    "    def fit(self, X, y):\n",
    "        self._leaf_count = 0\n",
    "        self._tree = self._build_tree(X, y)\n",
    "\n",
    "        if self._max_leaf_count is not None:\n",
    "            n = self._leaf_count - self._max_leaf_count\n",
    "            if n > 0:\n",
    "                cutter = TreeCutter()\n",
    "                self._tree = cutter.cut_leafs(self._tree, n)\n",
    "\n",
    "    def predict(self, X):\n",
    "        return np.apply_along_axis(self._tree.predict, 1, np.array(X))\n",
    "\n",
    "    def _build_tree(self, data, labels, level=0):\n",
    "        gain, t, index = self._find_best_split(data, labels)\n",
    "\n",
    "        stop_flag = False\n",
    "        stop_flag = stop_flag or gain == 0\n",
    "        stop_flag = stop_flag or gain < self._min_impurity_decrease\n",
    "        stop_flag = stop_flag or level > self._max_depth\n",
    "\n",
    "        if stop_flag:\n",
    "            self._leaf_count += 1\n",
    "            return self._Leaf(labels)\n",
    "\n",
    "        true_data, false_data, true_labels, false_labels = self._split(\n",
    "            data, labels, index, t\n",
    "        )\n",
    "\n",
    "        true_branch = self._build_tree(true_data, true_labels, level+1)\n",
    "        false_branch = self._build_tree(false_data, false_labels, level+1)\n",
    "        return self._Node(index, t, true_branch, false_branch)\n",
    "\n",
    "    def _find_best_split(self, data, labels):\n",
    "        best_gain, best_t, best_index = 0, None, None\n",
    "\n",
    "        h = self._criterion(labels)\n",
    "        for index in range(data.shape[1]):\n",
    "\n",
    "            for t in np.unique(data[:, index]):\n",
    "                _, _, left_labels, right_labels = self._split(\n",
    "                    data, labels, index, t\n",
    "                )\n",
    "\n",
    "                if len(left_labels) < self._min_samples_leaf:\n",
    "                    continue\n",
    "\n",
    "                if len(right_labels) < self._min_samples_leaf:\n",
    "                    continue\n",
    "\n",
    "                p = len(left_labels) / len(labels)\n",
    "                left_h = self._criterion(left_labels)\n",
    "                right_h = self._criterion(right_labels)\n",
    "                current_gein = h - (p * left_h) - ((1 - p) * right_h)\n",
    "\n",
    "                if current_gein > best_gain:\n",
    "                    best_gain, best_t, best_index = current_gein, t, index\n",
    "\n",
    "        return best_gain, best_t, best_index\n",
    "\n",
    "    def _split(self, data, labels, index, t):\n",
    "        left = np.where(data[:, index] <= t)\n",
    "        right = np.where(data[:, index] > t)\n",
    "        return data[left], data[right], labels[left], labels[right]\n",
    "\n",
    "    def _print_tree(self, node, spacing=\"\"):\n",
    "        text = ''\n",
    "\n",
    "        # Если лист, то выводим его прогноз\n",
    "        if isinstance(node, Leaf):\n",
    "            text += ColorText.ORANGE + spacing + ' ЛИСТ'\n",
    "            text += ': прогноз = ' + str(node.prediction)\n",
    "            text += ', объектов = ' + str(len(node.labels))\n",
    "            text += ColorText.END\n",
    "            return text\n",
    "\n",
    "        # Выведем значение индекса и порога на этом узле\n",
    "        text += ColorText.GREEN + spacing + 'УЗЕЛ'\n",
    "        text += ': индекс = ' + str(node.index)\n",
    "        text += ', порог = ' + str(round(node.t, 2))\n",
    "        text += ColorText.END\n",
    "\n",
    "        # Рекурсионный вызов функции на положительном поддереве\n",
    "        text += f'\\n{spacing}--> Левая ветка:\\n'\n",
    "        text += self._print_tree(node.true_branch, spacing + \"   \")\n",
    "\n",
    "        # Рекурсионный вызов функции на положительном поддереве\n",
    "        text += f'\\n{spacing}--> Правая ветка:\\n'\n",
    "        text += self._print_tree(node.false_branch, spacing + \"   \")\n",
    "\n",
    "        return text"
   ]
  },
  {
   "cell_type": "markdown",
   "id": "13ebc00e",
   "metadata": {},
   "source": [
    "### Дерево для задачи классификации"
   ]
  },
  {
   "cell_type": "code",
   "execution_count": 7,
   "id": "a4ed5d48",
   "metadata": {},
   "outputs": [],
   "source": [
    "class ClassifierLeaf(Leaf):\n",
    "\n",
    "    def _get_prediction(self, labels):\n",
    "        values, counts = np.unique(labels, return_counts=True)\n",
    "        self.prediction = values[counts.argmax()]"
   ]
  },
  {
   "cell_type": "code",
   "execution_count": 8,
   "id": "cdf2aa95",
   "metadata": {},
   "outputs": [],
   "source": [
    "def gini(labels):\n",
    "    _, counts = np.unique(labels, return_counts=True)\n",
    "    p = counts / sum(counts)\n",
    "    return 1 - sum(p**2)"
   ]
  },
  {
   "cell_type": "code",
   "execution_count": 9,
   "id": "b062d4ea",
   "metadata": {},
   "outputs": [],
   "source": [
    "def entropy(labels):\n",
    "    _, counts = np.unique(labels, return_counts=True)\n",
    "    p = counts / sum(counts)\n",
    "    return -sum(p * np.log2(p))"
   ]
  },
  {
   "cell_type": "code",
   "execution_count": 10,
   "id": "8c6efdc0",
   "metadata": {},
   "outputs": [],
   "source": [
    "class DecisionTreeClassifier(DecisionTree):\n",
    "\n",
    "    def __init__(self, criterion='gini', **kwargs):\n",
    "        super().__init__(**kwargs)\n",
    "\n",
    "        criterion = criterion.lower()\n",
    "        criterion_list = ['gini', 'entropy']\n",
    "        if criterion == 'gini':\n",
    "            self._selected_criterion = gini\n",
    "\n",
    "        elif criterion == 'entropy':\n",
    "            self._selected_criterion = entropy\n",
    "\n",
    "        else:\n",
    "            error = f'Unknown criterion {criterion} for DecisionTreeClassifier'\n",
    "            error += f' (criterion not in [{\", \".join(criterion_list)}])!'\n",
    "            raise ValueError(error)\n",
    "\n",
    "    def _criterion(self, labels):\n",
    "        return self._selected_criterion(labels)\n",
    "\n",
    "    def _Leaf(self, labels):\n",
    "        return ClassifierLeaf(labels)\n",
    "\n",
    "    def _Node(self, index, t, true_branch, false_branch):\n",
    "        return Node(index, t, true_branch, false_branch)"
   ]
  },
  {
   "cell_type": "markdown",
   "id": "c7ecaacb",
   "metadata": {},
   "source": [
    "### Дерево для задачи регрессии"
   ]
  },
  {
   "cell_type": "code",
   "execution_count": 11,
   "id": "6390b17a",
   "metadata": {},
   "outputs": [],
   "source": [
    "class RegressorLeaf(Leaf):\n",
    "\n",
    "    def _get_prediction(self, labels):\n",
    "        self.prediction = np.mean(labels)"
   ]
  },
  {
   "cell_type": "code",
   "execution_count": 12,
   "id": "58612997",
   "metadata": {},
   "outputs": [],
   "source": [
    "def mse(y_true, y_pred):\n",
    "    return np.mean((y_true - y_pred)**2)"
   ]
  },
  {
   "cell_type": "code",
   "execution_count": 13,
   "id": "4912f551",
   "metadata": {},
   "outputs": [],
   "source": [
    "def mae(y_true, y_pred):\n",
    "    return np.mean(np.abs(y_true - y_pred))"
   ]
  },
  {
   "cell_type": "code",
   "execution_count": 14,
   "id": "3c5baff4",
   "metadata": {},
   "outputs": [],
   "source": [
    "class DecisionTreeRegressor(DecisionTree):\n",
    "\n",
    "    def __init__(self, criterion='mse', **kwargs):\n",
    "        super().__init__(**kwargs)\n",
    "\n",
    "        criterion = criterion.lower()\n",
    "        criterion_list = ['mse', 'mae']\n",
    "        if criterion == 'mse':\n",
    "            self._selected_criterion = mse\n",
    "\n",
    "        elif criterion == 'mae':\n",
    "            self._selected_criterion = mae\n",
    "\n",
    "        else:\n",
    "            error = f'Unknown criterion {criterion} for DecisionTreeClassifier'\n",
    "            error += f' (criterion not in [{\", \".join(criterion_list)}])!'\n",
    "            raise ValueError(error)\n",
    "\n",
    "    def _criterion(self, labels):\n",
    "        return self._selected_criterion(labels, np.mean(labels))\n",
    "\n",
    "    def _Leaf(self, labels):\n",
    "        return RegressorLeaf(labels)\n",
    "\n",
    "    def _Node(self, index, t, true_branch, false_branch):\n",
    "        return Node(index, t, true_branch, false_branch)"
   ]
  },
  {
   "cell_type": "markdown",
   "id": "31e673ed",
   "metadata": {},
   "source": [
    "## Посмотрим влияние гиперпараметров на работу дерева"
   ]
  },
  {
   "cell_type": "markdown",
   "id": "009a3df8",
   "metadata": {},
   "source": [
    "### Классификация"
   ]
  },
  {
   "cell_type": "code",
   "execution_count": 15,
   "id": "c034f4fc",
   "metadata": {},
   "outputs": [],
   "source": [
    "def accuracy(y_true, y_pred):\n",
    "    return np.sum(y_true == y_pred) / len(y_true)"
   ]
  },
  {
   "cell_type": "code",
   "execution_count": 16,
   "id": "e8edc1cc",
   "metadata": {},
   "outputs": [],
   "source": [
    "def plot_history(history, param_name=\"\"):\n",
    "    plt.figure(figsize=(10, 5))\n",
    "    plt.plot(history.param_value, history.accuracy)\n",
    "    plt.xlabel(param_name)\n",
    "    plt.ylabel('Accuracy')\n",
    "    plt.show()"
   ]
  },
  {
   "cell_type": "code",
   "execution_count": 17,
   "id": "f0778068",
   "metadata": {},
   "outputs": [],
   "source": [
    "X, y = datasets.make_classification(n_features=2, n_informative=2,\n",
    "                                    n_classes=2, n_redundant=0,\n",
    "                                    n_clusters_per_class=1,\n",
    "                                    random_state=5)"
   ]
  },
  {
   "cell_type": "code",
   "execution_count": 18,
   "id": "d1f51325",
   "metadata": {},
   "outputs": [
    {
     "name": "stdout",
     "output_type": "stream",
     "text": [
      "max_depth = 1\n",
      "\u001b[1;34;48mУЗЕЛ: индекс = 0, порог = 0.16\u001b[1;37;0m\n",
      "--> Левая ветка:\n",
      "\u001b[1;32;48m    ЛИСТ: прогноз = 0, объектов = 56\u001b[1;37;0m\n",
      "--> Правая ветка:\n",
      "\u001b[1;32;48m    ЛИСТ: прогноз = 1, объектов = 44\u001b[1;37;0m\n",
      "____________________________________________________________________________________________________\n",
      "max_depth = 2\n",
      "\u001b[1;34;48mУЗЕЛ: индекс = 0, порог = 0.16\u001b[1;37;0m\n",
      "--> Левая ветка:\n",
      "\u001b[1;34;48m   УЗЕЛ: индекс = 1, порог = -1.52\u001b[1;37;0m\n",
      "   --> Левая ветка:\n",
      "\u001b[1;32;48m       ЛИСТ: прогноз = 0, объектов = 17\u001b[1;37;0m\n",
      "   --> Правая ветка:\n",
      "\u001b[1;32;48m       ЛИСТ: прогноз = 0, объектов = 39\u001b[1;37;0m\n",
      "--> Правая ветка:\n",
      "\u001b[1;32;48m    ЛИСТ: прогноз = 1, объектов = 44\u001b[1;37;0m\n",
      "____________________________________________________________________________________________________\n",
      "max_depth = 3\n",
      "\u001b[1;34;48mУЗЕЛ: индекс = 0, порог = 0.16\u001b[1;37;0m\n",
      "--> Левая ветка:\n",
      "\u001b[1;34;48m   УЗЕЛ: индекс = 1, порог = -1.52\u001b[1;37;0m\n",
      "   --> Левая ветка:\n",
      "\u001b[1;34;48m      УЗЕЛ: индекс = 0, порог = -0.95\u001b[1;37;0m\n",
      "      --> Левая ветка:\n",
      "\u001b[1;32;48m          ЛИСТ: прогноз = 0, объектов = 10\u001b[1;37;0m\n",
      "      --> Правая ветка:\n",
      "\u001b[1;32;48m          ЛИСТ: прогноз = 1, объектов = 7\u001b[1;37;0m\n",
      "   --> Правая ветка:\n",
      "\u001b[1;32;48m       ЛИСТ: прогноз = 0, объектов = 39\u001b[1;37;0m\n",
      "--> Правая ветка:\n",
      "\u001b[1;32;48m    ЛИСТ: прогноз = 1, объектов = 44\u001b[1;37;0m\n",
      "____________________________________________________________________________________________________\n",
      "max_depth = 4\n",
      "\u001b[1;34;48mУЗЕЛ: индекс = 0, порог = 0.16\u001b[1;37;0m\n",
      "--> Левая ветка:\n",
      "\u001b[1;34;48m   УЗЕЛ: индекс = 1, порог = -1.52\u001b[1;37;0m\n",
      "   --> Левая ветка:\n",
      "\u001b[1;34;48m      УЗЕЛ: индекс = 0, порог = -0.95\u001b[1;37;0m\n",
      "      --> Левая ветка:\n",
      "\u001b[1;32;48m          ЛИСТ: прогноз = 0, объектов = 10\u001b[1;37;0m\n",
      "      --> Правая ветка:\n",
      "\u001b[1;34;48m         УЗЕЛ: индекс = 0, порог = -0.49\u001b[1;37;0m\n",
      "         --> Левая ветка:\n",
      "\u001b[1;32;48m             ЛИСТ: прогноз = 1, объектов = 3\u001b[1;37;0m\n",
      "         --> Правая ветка:\n",
      "\u001b[1;32;48m             ЛИСТ: прогноз = 1, объектов = 4\u001b[1;37;0m\n",
      "   --> Правая ветка:\n",
      "\u001b[1;32;48m       ЛИСТ: прогноз = 0, объектов = 39\u001b[1;37;0m\n",
      "--> Правая ветка:\n",
      "\u001b[1;32;48m    ЛИСТ: прогноз = 1, объектов = 44\u001b[1;37;0m\n",
      "____________________________________________________________________________________________________\n"
     ]
    },
    {
     "data": {
      "image/png": "[encoded data removed]",
      "text/plain": [
       "<Figure size 1000x500 with 1 Axes>"
      ]
     },
     "metadata": {},
     "output_type": "display_data"
    }
   ],
   "source": [
    "criterion='gini'\n",
    "max_depth=None\n",
    "min_samples_leaf=1\n",
    "max_leaf_count=None\n",
    "min_impurity_decrease=0.0\n",
    "\n",
    "history = {\n",
    "    'param_value': [],\n",
    "    'accuracy': []\n",
    "}\n",
    "\n",
    "for max_depth in range(1, 5):\n",
    "    tree = DecisionTreeClassifier(criterion=criterion,\n",
    "                                  max_depth=max_depth,\n",
    "                                  min_samples_leaf=min_samples_leaf,\n",
    "                                  max_leaf_count=max_leaf_count,\n",
    "                                  min_impurity_decrease=min_impurity_decrease)\n",
    "    tree.fit(X, y)\n",
    "    history[\"param_value\"].append(max_depth)\n",
    "    history[\"accuracy\"].append(accuracy(y, tree.predict(X)))\n",
    "    print('max_depth =', max_depth)\n",
    "    print(tree)\n",
    "    print('_'*100)\n",
    "\n",
    "history = pd.DataFrame(history)\n",
    "plot_history(history, \"max_depth\")"
   ]
  },
  {
   "cell_type": "markdown",
   "id": "fb113881",
   "metadata": {},
   "source": [
    "С увеличением глубины дерева увеличивается и точность, но решающие деревья переобучаются очень быстро и с этим параметром нужно быть акуратным"
   ]
  },
  {
   "cell_type": "code",
   "execution_count": 19,
   "id": "450a609d",
   "metadata": {},
   "outputs": [
    {
     "data": {
      "image/png": "[encoded data removed]",
      "text/plain": [
       "<Figure size 1000x500 with 1 Axes>"
      ]
     },
     "metadata": {},
     "output_type": "display_data"
    }
   ],
   "source": [
    "criterion='gini'\n",
    "max_depth=None\n",
    "min_samples_leaf=1\n",
    "max_leaf_count=None\n",
    "min_impurity_decrease=0.0\n",
    "\n",
    "history = {\n",
    "    'param_value': [],\n",
    "    'accuracy': []\n",
    "}\n",
    "\n",
    "for min_samples_leaf in range(1, 55, 5):\n",
    "    tree = DecisionTreeClassifier(criterion=criterion,\n",
    "                                  max_depth=max_depth,\n",
    "                                  min_samples_leaf=min_samples_leaf,\n",
    "                                  max_leaf_count=max_leaf_count,\n",
    "                                  min_impurity_decrease=min_impurity_decrease)\n",
    "    tree.fit(X, y)\n",
    "    history[\"param_value\"].append(min_samples_leaf)\n",
    "    history[\"accuracy\"].append(accuracy(y, tree.predict(X)))\n",
    "\n",
    "history = pd.DataFrame(history)\n",
    "plot_history(history, \"min_samples_leaf\")"
   ]
  },
  {
   "cell_type": "markdown",
   "id": "638c2c96",
   "metadata": {},
   "source": [
    "Увеличение min_samples_leaf ограничивает можель в том, сколько значений попадет в лист. С его увеличением размер дерева становится меньше"
   ]
  },
  {
   "cell_type": "code",
   "execution_count": 20,
   "id": "f292984f",
   "metadata": {},
   "outputs": [
    {
     "data": {
      "image/png": "[encoded data removed]",
      "text/plain": [
       "<Figure size 1000x500 with 1 Axes>"
      ]
     },
     "metadata": {},
     "output_type": "display_data"
    }
   ],
   "source": [
    "criterion='gini'\n",
    "max_depth=None\n",
    "min_samples_leaf=1\n",
    "max_leaf_count=None\n",
    "min_impurity_decrease=0.0\n",
    "\n",
    "history = {\n",
    "    'param_value': [],\n",
    "    'accuracy': []\n",
    "}\n",
    "\n",
    "for max_leaf_count in range(1, 10):\n",
    "    tree = DecisionTreeClassifier(criterion=criterion,\n",
    "                                  max_depth=max_depth,\n",
    "                                  min_samples_leaf=min_samples_leaf,\n",
    "                                  max_leaf_count=max_leaf_count,\n",
    "                                  min_impurity_decrease=min_impurity_decrease)\n",
    "    tree.fit(X, y)\n",
    "    history[\"param_value\"].append(max_leaf_count)\n",
    "    history[\"accuracy\"].append(accuracy(y, tree.predict(X)))\n",
    "\n",
    "history = pd.DataFrame(history)\n",
    "plot_history(history, \"max_leaf_count\")"
   ]
  },
  {
   "cell_type": "markdown",
   "id": "023246af",
   "metadata": {},
   "source": [
    "Увеличение количества листьев также увеличивает качество, но позволяет модели переобучиться"
   ]
  },
  {
   "cell_type": "markdown",
   "id": "60da06bf",
   "metadata": {},
   "source": [
    "### Регрессия"
   ]
  },
  {
   "cell_type": "code",
   "execution_count": 21,
   "id": "024ae240",
   "metadata": {},
   "outputs": [],
   "source": [
    "def plot_history(history, param_name=\"\"):\n",
    "    plt.figure(figsize=(10, 5))\n",
    "    plt.plot(history.param_value, history.r2_score)\n",
    "    plt.xlabel(param_name)\n",
    "    plt.ylabel('r2_score')\n",
    "    plt.show()"
   ]
  },
  {
   "cell_type": "code",
   "execution_count": 22,
   "id": "909ef9c1",
   "metadata": {},
   "outputs": [],
   "source": [
    "def r2_score(y_true, y_pred):\n",
    "    SSres = np.sum((y_true - y_pred)**2)\n",
    "    SStot = np.sum((y_true - np.mean(y_pred))**2)\n",
    "    return 1 - (SSres / SStot)"
   ]
  },
  {
   "cell_type": "code",
   "execution_count": 23,
   "id": "2db8d1ff",
   "metadata": {},
   "outputs": [],
   "source": [
    "X, y = datasets.make_regression(n_samples=100, n_features=2, \n",
    "                                n_informative=2, n_targets=1,\n",
    "                                noise=5, bias=0, # intersept=0\n",
    "                                random_state=42)"
   ]
  },
  {
   "cell_type": "code",
   "execution_count": 24,
   "id": "6d1e0946",
   "metadata": {},
   "outputs": [
    {
     "data": {
      "image/png": "[encoded data removed]",
      "text/plain": [
       "<Figure size 1000x500 with 1 Axes>"
      ]
     },
     "metadata": {},
     "output_type": "display_data"
    }
   ],
   "source": [
    "criterion='mse'\n",
    "max_depth=None\n",
    "min_samples_leaf=1\n",
    "max_leaf_count=None\n",
    "min_impurity_decrease=0.0\n",
    "\n",
    "history = {\n",
    "    'param_value': [],\n",
    "    'r2_score': []\n",
    "}\n",
    "\n",
    "for max_depth in range(1, 15):\n",
    "    tree = DecisionTreeRegressor(criterion=criterion,\n",
    "                                 max_depth=max_depth,\n",
    "                                 min_samples_leaf=min_samples_leaf,\n",
    "                                 max_leaf_count=max_leaf_count,\n",
    "                                 min_impurity_decrease=min_impurity_decrease)\n",
    "    tree.fit(X, y)\n",
    "    history[\"param_value\"].append(max_depth)\n",
    "    history[\"r2_score\"].append(r2_score(y, tree.predict(X)))\n",
    "\n",
    "history = pd.DataFrame(history)\n",
    "plot_history(history, \"max_depth\")"
   ]
  },
  {
   "cell_type": "code",
   "execution_count": 25,
   "id": "18897a89",
   "metadata": {},
   "outputs": [
    {
     "data": {
      "image/png": "[encoded data removed]",
      "text/plain": [
       "<Figure size 1000x500 with 1 Axes>"
      ]
     },
     "metadata": {},
     "output_type": "display_data"
    }
   ],
   "source": [
    "criterion='mse'\n",
    "max_depth=None\n",
    "min_samples_leaf=1\n",
    "max_leaf_count=None\n",
    "min_impurity_decrease=0.0\n",
    "\n",
    "history = {\n",
    "    'param_value': [],\n",
    "    'r2_score': []\n",
    "}\n",
    "\n",
    "for min_samples_leaf in range(1, 55, 5):\n",
    "    tree = DecisionTreeRegressor(criterion=criterion,\n",
    "                                 max_depth=max_depth,\n",
    "                                 min_samples_leaf=min_samples_leaf,\n",
    "                                 max_leaf_count=max_leaf_count,\n",
    "                                 min_impurity_decrease=min_impurity_decrease)\n",
    "    tree.fit(X, y)\n",
    "    history[\"param_value\"].append(min_samples_leaf)\n",
    "    history[\"r2_score\"].append(r2_score(y, tree.predict(X)))\n",
    "\n",
    "history = pd.DataFrame(history)\n",
    "plot_history(history, \"min_samples_leaf\")"
   ]
  },
  {
   "cell_type": "code",
   "execution_count": 26,
   "id": "213fe159",
   "metadata": {},
   "outputs": [
    {
     "data": {
      "image/png": "[encoded data removed]",
      "text/plain": [
       "<Figure size 1000x500 with 1 Axes>"
      ]
     },
     "metadata": {},
     "output_type": "display_data"
    }
   ],
   "source": [
    "criterion='mse'\n",
    "max_depth=None\n",
    "min_samples_leaf=1\n",
    "max_leaf_count=None\n",
    "min_impurity_decrease=0.0\n",
    "\n",
    "history = {\n",
    "    'param_value': [],\n",
    "    'r2_score': []\n",
    "}\n",
    "\n",
    "for max_leaf_count in range(1, 10):\n",
    "    tree = DecisionTreeRegressor(criterion=criterion,\n",
    "                                 max_depth=max_depth,\n",
    "                                 min_samples_leaf=min_samples_leaf,\n",
    "                                 max_leaf_count=max_leaf_count,\n",
    "                                 min_impurity_decrease=min_impurity_decrease)\n",
    "    tree.fit(X, y)\n",
    "    history[\"param_value\"].append(max_leaf_count)\n",
    "    history[\"r2_score\"].append(r2_score(y, tree.predict(X)))\n",
    "\n",
    "history = pd.DataFrame(history)\n",
    "plot_history(history, \"max_leaf_count\")"
   ]
  },
  {
   "cell_type": "markdown",
   "id": "85d1c87b",
   "metadata": {},
   "source": [
    "В задачах регрессии параметры влияют на дерево также как и в задачах классификации"
   ]
  }
 ],
 "metadata": {
  "kernelspec": {
   "display_name": "Python 3 (ipykernel)",
   "language": "python",
   "name": "python3"
  },
  "language_info": {
   "codemirror_mode": {
    "name": "ipython",
    "version": 3
   },
   "file_extension": ".py",
   "mimetype": "text/x-python",
   "name": "python",
   "nbconvert_exporter": "python",
   "pygments_lexer": "ipython3",
   "version": "3.11.3"
  }
 },
 "nbformat": 4,
 "nbformat_minor": 5
}
